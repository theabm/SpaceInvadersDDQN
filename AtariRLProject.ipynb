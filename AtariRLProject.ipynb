{
  "cells": [
    {
      "cell_type": "markdown",
      "metadata": {
        "id": "SPeeeo8XbT-g"
      },
      "source": [
        "# Space Invaders: DQN implementation\n",
        "\n",
        "By:\n",
        "\n",
        "Andres Bermeo Marinelli\n",
        "\n",
        "Davide Basso"
      ]
    },
    {
      "cell_type": "markdown",
      "metadata": {
        "id": "a6-V7G9_2417"
      },
      "source": [
        "# 0. Importing Space Invader environment.\n",
        "\n",
        "To run the notebook, please be sure to download the ROM for SpaceInvaders. This is perhaps the most complicated step as some ROMS don't work while others do. \n",
        "We found that the version from 1983 (specifically) with a .a26 extension solved all issues. \n",
        "\n",
        "Lastly, to work easily in collaborative mode, we uploaded the ROM to a google drive folder named \"space\". The following code snippets operate on this assumption."
      ]
    },
    {
      "cell_type": "code",
      "execution_count": 1,
      "metadata": {
        "id": "8BIp0ZaYZik9"
      },
      "outputs": [
        {
          "name": "stderr",
          "output_type": "stream",
          "text": [
            "c:\\Users\\andre\\anaconda3\\envs\\atari\\lib\\site-packages\\ale_py\\roms\\__init__.py:89: DeprecationWarning: Automatic importing of atari-py roms won't be supported in future releases of ale-py. Please migrate over to using `ale-import-roms` OR an ALE-supported ROM package. To make this warning disappear you can run `ale-import-roms --import-from-pkg atari_py.atari_roms`.For more information see: https://github.com/mgbellemare/Arcade-Learning-Environment#rom-management\n",
            "  ROMS = resolve_roms()\n"
          ]
        }
      ],
      "source": [
        "import warnings\n",
        "warnings.filterwarnings('ignore')\n",
        "\n",
        "import numpy as np           \n",
        "from skimage import transform \n",
        "import matplotlib.pyplot as plt\n",
        "from collections import deque, namedtuple\n",
        "import random\n",
        "import gym\n",
        "\n",
        "import torch\n",
        "import torch.nn as nn\n",
        "\n",
        "import pickle\n"
      ]
    },
    {
      "cell_type": "code",
      "execution_count": 2,
      "metadata": {
        "id": "z-Opk-TE30tl"
      },
      "outputs": [
        {
          "name": "stdout",
          "output_type": "stream",
          "text": [
            "copying space_invaders.bin from ../Utils\\Space Invaders (1980) (Atari, Richard Maurer - Sears) (CX2632 - 49-75153) ~.bin to c:\\Users\\andre\\anaconda3\\envs\\atari\\lib\\site-packages\\atari_py\\atari_roms\\space_invaders.bin\n"
          ]
        }
      ],
      "source": [
        "!python -m atari_py.import_roms ./Utils"
      ]
    },
    {
      "cell_type": "markdown",
      "metadata": {
        "id": "uKswORQd0jef"
      },
      "source": [
        "# 1. Environment Setting\n",
        "\n",
        "We set the enviroment using gym module from OpenAI. We select the Space Invaders module after having imported the ROM from.\n",
        "\n",
        "http://www.atarimania.com/rom_collection_archive_atari_2600_roms.html"
      ]
    },
    {
      "cell_type": "code",
      "execution_count": 3,
      "metadata": {
        "id": "s9FKgic1iWEf"
      },
      "outputs": [
        {
          "name": "stdout",
          "output_type": "stream",
          "text": [
            "State size:\t (210, 160, 3)\n",
            "Actions:\t 6\n"
          ]
        }
      ],
      "source": [
        "env = gym.make(id='SpaceInvadersNoFrameskip-v4')\n",
        "\n",
        "print(\"State size:\\t\", env.observation_space.shape) #The frame size corresponds to the state space. \n",
        "print(\"Actions:\\t\", env.action_space.n)\n"
      ]
    },
    {
      "cell_type": "markdown",
      "metadata": {
        "id": "PRmCkwe5ieVI"
      },
      "source": [
        "As we can see, our observation space, in the most basic form, consists of an rgb frame of size (210, 160, 3).\n",
        "Furthermore, there are 6 possible actions to take:\n",
        "\n",
        "  - 0 - Do nothing\n",
        "  - 1 - Fire\n",
        "  - 2 - Right\n",
        "  - 3 - Left\n",
        "  - 4 - Right Fire\n",
        "  - 5 - Left Fire\n",
        "\n",
        "An agent can take actions through the env.step(action) command, i.e env.step(0) tells the emulator to not do anything and advance the frame to the next state.\n",
        "\n",
        "We show the initial frame of the game by calling env.reset():"
      ]
    },
    {
      "cell_type": "code",
      "execution_count": 4,
      "metadata": {
        "id": "jmSq_qsYidGC"
      },
      "outputs": [
        {
          "data": {
            "image/png": "[encoded data removed]",
            "text/plain": [
              "<Figure size 432x288 with 1 Axes>"
            ]
          },
          "metadata": {
            "needs_background": "light"
          },
          "output_type": "display_data"
        }
      ],
      "source": [
        "env.reset()\n",
        "plt.figure()\n",
        "plt.imshow(env.reset())\n",
        "plt.title('Original Frame')\n",
        "plt.show()"
      ]
    },
    {
      "cell_type": "code",
      "execution_count": 5,
      "metadata": {},
      "outputs": [
        {
          "name": "stdout",
          "output_type": "stream",
          "text": [
            "Your Score at end of game is:  40.0\n"
          ]
        }
      ],
      "source": [
        "def random_play(close_environment = True):\n",
        "    score = 0\n",
        "    env.reset()\n",
        "    while True:\n",
        "        action = env.action_space.sample()\n",
        "        _, reward, done, _ = env.step(action)\n",
        "        score += reward\n",
        "        if done:\n",
        "            break\n",
        "    if close_environment:\n",
        "      print(\"Your Score at end of game is: \", score)\n",
        "      env.close()\n",
        "    return score\n",
        "\n",
        "_ = random_play()"
      ]
    },
    {
      "cell_type": "code",
      "execution_count": 6,
      "metadata": {},
      "outputs": [
        {
          "name": "stdout",
          "output_type": "stream",
          "text": [
            "The average reward for the random agent is 167.62626262626262\n"
          ]
        }
      ],
      "source": [
        "rewardRandomAgent = []\n",
        "for episode in range(1,100):\n",
        "    rewardRandomAgent.append(random_play(False))\n",
        "env.close()\n",
        "print(f\"The average reward for the random agent is {np.mean(rewardRandomAgent)}\")\n",
        "        "
      ]
    },
    {
      "cell_type": "markdown",
      "metadata": {
        "id": "XFuNzzhH4opM"
      },
      "source": [
        "# 2. Analyzing the State Space\n",
        "We wish to understand if the current representation of the state space is correct or if something else should be used. \n",
        "\n"
      ]
    },
    {
      "cell_type": "markdown",
      "metadata": {
        "id": "GEoYn2kx44Xq"
      },
      "source": [
        "In fact, by looking at the image above, we immediately notice that the observation space is much bigger than necessary.\n",
        "In particular:\n",
        "  1. Colors don't bring any useful information - so the image can be reduced to grayscale.\n",
        "  2. The scoreboard at the top is for visual purposes only - so those pixels can be eliminated and the size of the frame can be reduced.\n",
        "  3. The green portion at the bottom of the frame is useless as well since the space ship sits at the top of it - this can be eliminated as well.\n",
        "\n",
        "Therefore, we need to preprocess the frames and reduce their complexity which can be done using a wrapper for the environment.\n",
        "\n",
        "Follwing the approach of DeepMind in their Atari paper, this wrapper converts the image to grayscale, crops the image, normalizes the pixels and resizes the image further to (84 x 84).\n",
        "\n"
      ]
    },
    {
      "cell_type": "code",
      "execution_count": 7,
      "metadata": {
        "id": "4sJDKDvsmk8x"
      },
      "outputs": [],
      "source": [
        "class ProcessObservation(gym.ObservationWrapper):\n",
        "  '''Pre process observation by converting frame from RGB to grayscale and then resizing it to (84 x 84)\n",
        "  '''\n",
        "  def __init__(self, env):\n",
        "    super(ProcessObservation, self).__init__(env)\n",
        "    self.observation_space = gym.spaces.Box(low = 0, high = 255, shape = (84,84))\n",
        "    \n",
        "  def observation(self, color_frame):\n",
        "    return ProcessObservation.rgb2grayScaled(color_frame)\n",
        "  \n",
        "  @staticmethod\n",
        "  def rgb2grayScaled(color_frame):\n",
        "    rgb_weights = [0.2989, 0.5870, 0.1140]\n",
        "    gray_frame = np.dot(color_frame[...,:3], rgb_weights)\n",
        "    cropped_frame = gray_frame[25:-12,4:-12]\n",
        "    cropped_frame = transform.resize(cropped_frame, [84,84])\n",
        "    return cropped_frame.astype(np.uint8)"
      ]
    },
    {
      "cell_type": "markdown",
      "metadata": {
        "id": "4L0ze19b9QWT"
      },
      "source": [
        "We also clip rewards in order to save space and generalize to different games:"
      ]
    },
    {
      "cell_type": "code",
      "execution_count": 8,
      "metadata": {
        "id": "hLJV-KsB9P9D"
      },
      "outputs": [],
      "source": [
        "class ClipRewardEnv(gym.RewardWrapper):\n",
        "    def __init__(self, env):\n",
        "        gym.RewardWrapper.__init__(self, env)\n",
        "\n",
        "    def reward(self, reward):\n",
        "        \"\"\"Bin reward to {+1, 0, -1} by its sign.\"\"\"\n",
        "        return np.sign(reward).astype(np.int16)"
      ]
    },
    {
      "cell_type": "markdown",
      "metadata": {
        "id": "dbotMq6CoVP4"
      },
      "source": [
        "# 3. Frame Skipping\n",
        "\n",
        "Should an agent take an action every frame? Given the speed of the game, two consecutive frames differ very little from the other.\n",
        "\n",
        "Following the approach of deep mind, for the space invaders game, we skip every 3 frames and repeat the action on the skipped frames.\n",
        "\n",
        "Furthermore, a maximum is taken over two consecutive frames to ensure that possible blurs or ghosting issues do not cause problems. \n",
        "\n",
        "This is implemented in the following wrapper:"
      ]
    },
    {
      "cell_type": "code",
      "execution_count": 9,
      "metadata": {
        "id": "fA-rHpQZ072d"
      },
      "outputs": [],
      "source": [
        "# Create our environment wrapper to properly skip the frames.\n",
        "class MaxAndSkipEnv(gym.Wrapper):\n",
        "\n",
        "  \"\"\"\n",
        "    Each action of the agent is repeated over skip frames        \n",
        "    return only every `skip`-th frame\n",
        "  \"\"\"\n",
        "  \n",
        "  def __init__(self, env, skip=3):\n",
        "    super(MaxAndSkipEnv, self).__init__(env)\n",
        "    # most recent raw observations (for max pooling across time steps)\n",
        "    self._obs_buffer = deque(maxlen=2)\n",
        "    self._skip = skip\n",
        "\n",
        "  def step(self, action):\n",
        "    total_reward = 0\n",
        "    for _ in range(self._skip):\n",
        "        obs, reward, done, info = self.env.step(action)\n",
        "        self._obs_buffer.append(obs)\n",
        "        total_reward += reward\n",
        "        if done:\n",
        "            break\n",
        "    max_frame = np.max(np.stack(self._obs_buffer), axis=0)\n",
        "    return max_frame, total_reward, done, info\n",
        "\n",
        "  def reset(self):\n",
        "    \"\"\"Clear past frame buffer and init to first obs\"\"\"\n",
        "    self._obs_buffer.clear()\n",
        "    obs = self.env.reset()\n",
        "    self._obs_buffer.append(obs)\n",
        "    return obs"
      ]
    },
    {
      "cell_type": "markdown",
      "metadata": {
        "id": "nFT-IQEWMdqz"
      },
      "source": [
        "# 4. Frame Stacking\n",
        "\n",
        "Finally, we also use a technique described in the original Atari paper, which stacks frames in order to obtain a better description of the environment. \n",
        "\n",
        "This is because the agent needs a sequence of frames to better understand the motion of the game in order to choose an action. If the monsters are moving left the agent must move left or fire left, and viceversa for the right direction. Without frame stacking, the agent has no idea of the motion. \n",
        "\n",
        "Therefore, a state is composed of 4 stacked frames (so it will be an array of size 4 x 84 x 84). \n",
        "\n",
        "Remember however, that these frames are not consecutive and are taken every 3 steps (with a max operation).\n",
        "\n",
        "The following wrapper implements this idea:"
      ]
    },
    {
      "cell_type": "code",
      "execution_count": 10,
      "metadata": {
        "id": "2Qv0A9t47yXX"
      },
      "outputs": [],
      "source": [
        "class LazyFrames(object):\n",
        "    def __init__(self, frames):\n",
        "        \"\"\"This object ensures that common frames between the observations are only stored once.\n",
        "        It exists purely to optimize memory usage which can be huge for DQN's 1M frames replay\n",
        "        buffers.\n",
        "        This object should only be converted to numpy array before being passed to the model.\n",
        "        You'd not believe how complex the previous solution was.\"\"\"\n",
        "        self._frames = frames\n",
        "\n",
        "    def toTorch(self):\n",
        "      return torch.from_numpy(np.stack(self._frames))        \n",
        "\n",
        "    def __len__(self):\n",
        "      return len(self.toTorch())\n",
        "\n",
        "    def __getitem__(self, i):\n",
        "        return self.toTorch()[i]\n",
        "    \n",
        "    def shape(self):\n",
        "      return self.toTorch().shape"
      ]
    },
    {
      "cell_type": "code",
      "execution_count": 11,
      "metadata": {
        "id": "_PlmoRDNoTez"
      },
      "outputs": [],
      "source": [
        "class FrameStack(gym.Wrapper):\n",
        "  def __init__(self, env, size = 4):\n",
        "      super(FrameStack, self).__init__(env)\n",
        "      self.size = size\n",
        "      self.queue = deque([], maxlen = self.size)\n",
        "      shp = env.observation_space.shape\n",
        "      self.observation_space = gym.spaces.Box(low=0, high=255, shape=((size,) + shp), dtype=env.observation_space.dtype)\n",
        "\n",
        "  def reset(self):\n",
        "    ob = self.env.reset()\n",
        "    for _ in range(self.size):\n",
        "      self.queue.append(ob)\n",
        "    return self._get_ob()\n",
        "\n",
        "  def step(self, action):\n",
        "    ob, reward, done, info = self.env.step(action)\n",
        "    self.queue.append(ob)\n",
        "    return self._get_ob(), reward, done, info\n",
        "  \n",
        "  def _get_ob(self):\n",
        "    #return torch.from_numpy(np.stack(self.queue, axis = 0))\n",
        "    return LazyFrames(list(self.queue))\n",
        "  "
      ]
    },
    {
      "cell_type": "markdown",
      "metadata": {
        "id": "U3J-Jj6opjDR"
      },
      "source": [
        "# 5. The final Environment\n",
        "\n",
        "Finally, by chaining the wrappers in the right order, we can obtain the final environment with states represented just as we want them."
      ]
    },
    {
      "cell_type": "code",
      "execution_count": 12,
      "metadata": {
        "id": "SK9p8o5-__VZ"
      },
      "outputs": [],
      "source": [
        "env = gym.make(id='SpaceInvadersNoFrameskip-v4')\n",
        "env = FrameStack(ClipRewardEnv(MaxAndSkipEnv(ProcessObservation(env))))"
      ]
    },
    {
      "cell_type": "markdown",
      "metadata": {
        "id": "q7w_o8tgp54w"
      },
      "source": [
        "A quick check:"
      ]
    },
    {
      "cell_type": "code",
      "execution_count": 13,
      "metadata": {
        "id": "5pK4jRxrZtsq"
      },
      "outputs": [
        {
          "name": "stdout",
          "output_type": "stream",
          "text": [
            "State size:\t (4, 84, 84)\n",
            "Actions:\t  6\n"
          ]
        }
      ],
      "source": [
        "print(\"State size:\\t\", env.observation_space.shape) #The frame size corresponds to the state space. \n",
        "print(\"Actions:\\t \", env.action_space.n)"
      ]
    },
    {
      "cell_type": "code",
      "execution_count": 14,
      "metadata": {
        "id": "GlhovxMk4Okv"
      },
      "outputs": [
        {
          "name": "stdout",
          "output_type": "stream",
          "text": [
            "Type of state:\t\t\t\t <class '__main__.LazyFrames'>\n",
            "Shape of state as torch tensor:\t\t torch.Size([4, 84, 84])\n",
            "Data type contained in torch tensor:\t torch.uint8\n"
          ]
        }
      ],
      "source": [
        "print(\"Type of state:\\t\\t\\t\\t\", type(env.reset()))\n",
        "print(\"Shape of state as torch tensor:\\t\\t\", env.reset().toTorch().shape)\n",
        "print(\"Data type contained in torch tensor:\\t\", env.reset().toTorch().dtype)"
      ]
    },
    {
      "cell_type": "markdown",
      "metadata": {
        "id": "0I48FGZZqBQF"
      },
      "source": [
        "Let's plot it! (Remember that we can only plot one of the frames so we take the first one)"
      ]
    },
    {
      "cell_type": "code",
      "execution_count": 15,
      "metadata": {
        "id": "Fd9EBc1jAI3O"
      },
      "outputs": [
        {
          "data": {
            "text/plain": [
              "<matplotlib.image.AxesImage at 0x261123cc9a0>"
            ]
          },
          "execution_count": 15,
          "metadata": {},
          "output_type": "execute_result"
        },
        {
          "data": {
            "image/png": "[encoded data removed]",
            "text/plain": [
              "<Figure size 432x288 with 1 Axes>"
            ]
          },
          "metadata": {
            "needs_background": "light"
          },
          "output_type": "display_data"
        }
      ],
      "source": [
        "plt.imshow(env.reset().toTorch()[0], 'gray')"
      ]
    },
    {
      "cell_type": "markdown",
      "metadata": {
        "id": "8A8ZdLlz5p_C"
      },
      "source": [
        "To play the game with a random policy, we simply execute the following code:"
      ]
    },
    {
      "cell_type": "code",
      "execution_count": 16,
      "metadata": {
        "id": "CH04YSHq5v7s"
      },
      "outputs": [],
      "source": [
        "def random_play_wrappedEnv(close_environment = True):\n",
        "    score = np.array(0).astype(np.int16)\n",
        "    env.reset()\n",
        "    while True:\n",
        "        action = env.action_space.sample()\n",
        "        _, reward, done, _ = env.step(action)\n",
        "        score += reward\n",
        "        if done:\n",
        "            print(\"Your Score at end of game is: \", score)\n",
        "            break\n",
        "    if close_environment:\n",
        "      env.close()"
      ]
    },
    {
      "cell_type": "code",
      "execution_count": 17,
      "metadata": {
        "id": "Gn1z9T3S5y99"
      },
      "outputs": [
        {
          "name": "stdout",
          "output_type": "stream",
          "text": [
            "Your Score at end of game is:  3\n"
          ]
        }
      ],
      "source": [
        "random_play_wrappedEnv()"
      ]
    },
    {
      "cell_type": "markdown",
      "metadata": {
        "id": "uoqTgumer-3P"
      },
      "source": [
        "# 6. Building the Neural Network\n",
        "\n",
        "As described in the original paper, the NN consists of:\n",
        "  - Input layer: (N x 4 x 84 x 84)\n",
        "  - Hidden layer: 32 8x8 filters with stride 4 and ReLU activation\n",
        "  - Hidden layer: 64 4x4 filters with stride 2 and ReLU activation\n",
        "  - Hidden layer: 64 3x3 filters with stride 1 and ReLU activation\n",
        "  - Hidden Layer: Fully connected layer with 512 neurons\n",
        "  - Output layer: Fully connected and contains 6 neurons (one for each action)\n",
        "\n",
        "(where N is the batch size)"
      ]
    },
    {
      "cell_type": "code",
      "execution_count": 18,
      "metadata": {
        "id": "_kiSoHw0r95Y"
      },
      "outputs": [],
      "source": [
        "class DQN(nn.Module):\n",
        "    def __init__(self, input_shape, num_actions):\n",
        "        super(DQN, self).__init__()\n",
        "        self.input_shape = input_shape\n",
        "        self.num_actions = num_actions\n",
        "        \n",
        "        self.features = nn.Sequential(\n",
        "            nn.Conv2d(in_channels = input_shape[0], out_channels = 32, kernel_size=8, stride=4),\n",
        "            nn.ReLU(),\n",
        "            nn.Conv2d(in_channels = 32, out_channels = 64, kernel_size=4, stride=2),\n",
        "            nn.ReLU(),\n",
        "            nn.Conv2d(in_channels = 64, out_channels = 64, kernel_size = 3, stride = 1),\n",
        "            nn.ReLU()\n",
        "        )\n",
        "        self.fc = nn.Sequential(\n",
        "            nn.Linear(3136,512),\n",
        "            nn.ReLU(),\n",
        "            nn.Linear(512,self.num_actions)\n",
        "        )\n",
        "        \n",
        "    def forward(self, x):\n",
        "        x = self.features(x)\n",
        "        x = self.fc(x.view(x.size(0),-1))\n",
        "        return x"
      ]
    },
    {
      "cell_type": "markdown",
      "metadata": {
        "id": "LzJpHFfCqttm"
      },
      "source": [
        "# 7. Experience Replay\n",
        "\n",
        "One of the most important concepts of the Atari paper by Deep Mind is that of Experience Replay. \n",
        "\n",
        "The idea is that we store a transition (state, action, reward, next state) in a queue of fixed size. \n",
        "When we want to update the Q function, we sample a random batch of these experiences and apply gradient descent on these observations! \n",
        "\n",
        "This extracts more information out of an environment because we don't immediately throw away an observation but we try to get the most of the experiences had so far. "
      ]
    },
    {
      "cell_type": "code",
      "execution_count": 19,
      "metadata": {
        "id": "hbiVXwDcnRsk"
      },
      "outputs": [],
      "source": [
        "Transition = namedtuple('Transition',\n",
        "                        ('state', 'action', 'reward', 'next_state', 'done'))\n",
        "\n",
        "\n",
        "class ReplayMemory():\n",
        "\n",
        "    def __init__(self, capacity = 1000000):\n",
        "        self.memory = deque([],maxlen=capacity)\n",
        "\n",
        "    def push(self, *args):\n",
        "        \"\"\"Save a transition\"\"\"\n",
        "        self.memory.append(Transition(*args))\n",
        "\n",
        "    def sample(self, batch_size):\n",
        "        return random.sample(self.memory, batch_size)\n",
        "    \n",
        "    def save(self, episode):\n",
        "      filename = f\"/content/gdrive/MyDrive/Atari/TrainingCheckpoint/memory_{episode}.pt\"\n",
        "      with open(filename, \"wb\") as fp:\n",
        "        pickle.dump(self, fp)\n",
        "\n",
        "    def __len__(self):\n",
        "        return len(self.memory)\n",
        "    \n",
        "    def __iter__(self):\n",
        "      return ReplayMemoryIterator(self)\n",
        "\n",
        "class ReplayMemoryIterator():\n",
        "  def __init__(self, replay_memory):\n",
        "    self.replaymemory = replay_memory.memory\n",
        "    self.index = 0\n",
        "  def __iter__(self):\n",
        "    return self\n",
        "  def __next__(self):\n",
        "    if self.index < len(self.replaymemory):\n",
        "      transition = self.replaymemory[self.index]\n",
        "      self.index = self.index + 1\n",
        "      return transition\n",
        "    else:\n",
        "      raise StopIteration"
      ]
    },
    {
      "cell_type": "markdown",
      "metadata": {
        "id": "YQRoc70RY-Mb"
      },
      "source": [
        "# 9. The Agent\n",
        "\n",
        "The agent must be able to choose an action according to some policy. In our case, this is an epsilon greedy policy. Following the steps of DeepMind, at each step we decay the exploration linearly from 1.0 to 0.1 until 1 million steps have been taken. At this point we proceed with an exploration of 0.1 until the end of the training. \n",
        "\n",
        "The agent must also be able to remember a transition as well as perform an experience replay in order to learn the Q function. \n",
        "\n",
        "In the paper, the DeepMind team implemented a hard update of the two networks. In other words, after a certain amount of episodes, the target network would be set to be equal to the policy network. \n",
        "\n",
        "We decided to follow another approach discusses in []\n",
        "where a soft update is implemented. In particular, at each episode, the target network weights get updated as follows:\n",
        "\n",
        "$Q_{target} = \\tau Q_{policy} + (1-\\tau) Q_{target}$\n",
        "\n",
        "where tau is the soft update parameter and its usually set to 0.1%. Therefore, at each step, the target network is updated with 0.1% of the weights of the updated Q function. \n",
        "This supposedly has the benefit of stabilizing the training procedure. \n"
      ]
    },
    {
      "cell_type": "code",
      "execution_count": 20,
      "metadata": {
        "id": "Tv_B1B5uel7c"
      },
      "outputs": [],
      "source": [
        "class DQNAgent():\n",
        "\n",
        "  def __init__(self, state_space_shape, action_space_size, memory_size, batch_size, eps_max, eps_min, \n",
        "               schedule_timesteps, discounting, learning_rate, learning_start, update_method,\n",
        "               soft_update_param = None, update_freq = None, PATH = None, episode = None):\n",
        "    assert learning_start >= batch_size, f\"{learning_start} must be equal or greater than {batch_size}.\"\n",
        " \n",
        "    # Environment Parameters\n",
        "    self.state_space_shape = state_space_shape\n",
        "    self.action_space_size = action_space_size\n",
        "    self.discounting = discounting\n",
        "    self.learning_start = learning_start\n",
        "\n",
        "    # Experience Replay Parameters\n",
        "    self.memory_size = memory_size\n",
        "    self.batch_size = batch_size\n",
        "    \n",
        "    # Exploration (epsilon greedy) parameters\n",
        "    self.eps_max = eps_max\n",
        "    self.eps_min = eps_min\n",
        "    self.schedule_timesteps = schedule_timesteps\n",
        "\n",
        "    # Parameters for set up\n",
        "    self.device = torch.device(\"cuda\" if torch.cuda.is_available() else \"cpu\")\n",
        "\n",
        "    #DQN models. \n",
        "    self.policy = DQN(state_space_shape, action_space_size).to(self.device)\n",
        "    self.target = DQN(state_space_shape, action_space_size).to(self.device)\n",
        "    \n",
        "    self.method = update_method\n",
        "    if self.method == \"soft\":\n",
        "      assert soft_update_param is not None, \"Specify soft update parameter.\"\n",
        "      self.soft_update_param = soft_update_param # Target network will be updated as:  soft_update*Q_model + (1-soft_update)*Q_target\n",
        "    elif self.method == \"hard\":\n",
        "      assert update_freq is not None, \"Specify update frequency.\"\n",
        "      self.update_freq = update_freq\n",
        "\n",
        "    # Parameters for neural network\n",
        "    self.learning_rate = learning_rate\n",
        "    self.optimizer = torch.optim.Adam(self.policy.parameters(), lr = self.learning_rate)\n",
        "    self.loss = nn.SmoothL1Loss().to(self.device)\n",
        "\n",
        "\n",
        "    if PATH is not None:\n",
        "      checkpoint = torch.load(PATH)\n",
        "      self.policy.load_state_dict(checkpoint['policy_state_dict'])\n",
        "      self.optimizer.load_state_dict(checkpoint['optimizer_state_dict']) \n",
        "      self.target.load_state_dict(checkpoint['target_state_dict'])\n",
        "      self.step = checkpoint['step']\n",
        "      self.eps_current = checkpoint['eps_current']\n",
        "      if episode is not None:\n",
        "        with open(f\"/content/gdrive/MyDrive/Atari/TrainingCheckpoint/memory_{episode}.pt\", \"rb\") as fp:\n",
        "          self.memory = pickle.load(fp)\n",
        "      else:\n",
        "          self.memory = ReplayMemory(capacity = self.memory_size)\n",
        "    else:\n",
        "      self.step = 0\n",
        "      self.memory = ReplayMemory(capacity = self.memory_size)\n",
        "      self.eps_current = eps_max\n",
        "\n",
        "  def remember(self, state, action, reward, next_state, done):\n",
        "    '''Remember an experience'''\n",
        "    self.memory.push(state,action,reward,next_state,done)\n",
        "\n",
        "  def epsilon_greedy(self, state):\n",
        "    '''epsilon greedy strategy to choose best action'''\n",
        "    self._decrease_exploration()\n",
        "    if random.random() > self.eps_current:\n",
        "      with torch.no_grad():\n",
        "        return int(torch.argmax(self.policy(state.toTorch().unsqueeze(0).to(self.device).to(torch.float))).cpu())\n",
        "    else:\n",
        "      return random.randrange(self.action_space_size)\n",
        "    \n",
        "  def act(self, state, epsilon):\n",
        "    if random.random() > epsilon:\n",
        "      with torch.no_grad():\n",
        "        return int(torch.argmax(self.policy(state.toTorch().unsqueeze(0).to(self.device).to(torch.float))).cpu())\n",
        "    else:\n",
        "      return random.randrange(self.action_space_size)\n",
        "\n",
        "\n",
        "  def experience_replay(self):\n",
        "    if len(self.memory) < self.learning_start:\n",
        "      # Need to acquire more experience\n",
        "      return\n",
        "    experiences = self.memory.sample(self.batch_size)\n",
        "\n",
        "    experiences = Transition(*zip(*experiences))\n",
        "    #tuple of lazy frames\n",
        "    next_state_batch = [next_state.toTorch() for next_state in experiences.next_state]\n",
        "    next_state_batch = torch.stack(next_state_batch).to(self.device)\n",
        "    reward_batch     = torch.tensor(experiences.reward).to(self.device) # size 32\n",
        "    done_batch       = torch.tensor(experiences.done, dtype = torch.int).to(self.device)\n",
        "\n",
        "    with torch.no_grad():\n",
        "      max_a = torch.argmax(self.policy(next_state_batch.to(torch.float)), axis = 1).unsqueeze(1)\n",
        "      target = reward_batch + self.discounting * torch.mul(self.target(next_state_batch.to(torch.float)).gather(1, max_a).squeeze(), 1-done_batch)\n",
        "    \n",
        "    del next_state_batch\n",
        "    del reward_batch\n",
        "    del done_batch\n",
        "    del max_a\n",
        "    \n",
        "    state_batch      = [state.toTorch() for state in experiences.state]\n",
        "    state_batch      = torch.stack(state_batch).to(self.device)\n",
        "    \n",
        "    action_batch     = torch.tensor(experiences.action).unsqueeze(1).to(self.device)\n",
        "    \n",
        "    self.optimizer.zero_grad()\n",
        "    loss = self.loss(target, self.policy(state_batch.to(torch.float)).gather(1, action_batch).squeeze())\n",
        "\n",
        "    loss.backward()\n",
        "    self.optimizer.step()\n",
        "\n",
        "    del state_batch\n",
        "    del action_batch\n",
        "    del target\n",
        "    \n",
        "    self._update()\n",
        "    \n",
        "  def _decrease_exploration(self):\n",
        "    fraction = min(self.step/self.schedule_timesteps, 1.0)\n",
        "    \n",
        "    self.eps_current = (self.eps_min-self.eps_max)*fraction + self.eps_max\n",
        "\n",
        "    self.step += 1 # Everytime we decrease exploration, we are choosing an action thus taking another step.\n",
        "    return\n",
        "  \n",
        "  def _update(self):\n",
        "    if self.method == \"soft\":\n",
        "      return self._soft_udpate_target()\n",
        "    elif self.method == \"hard\":\n",
        "      return self._hard_update_target()\n",
        "    else:\n",
        "      print(f\"Update method not recognized. Choose between 'soft' or 'hard'\")\n",
        "  \n",
        "  def _soft_udpate_target(self):\n",
        "    for target_param, param in zip(self.target.parameters(), self.policy.parameters()):\n",
        "        target_param.data.copy_(self.soft_update_param*param.data + target_param.data*(1.0 - self.soft_update_param))\n",
        "    return\n",
        "\n",
        "  def _hard_update_target(self):\n",
        "    if (self.step-self.learning_start)%self.update_freq == 0:\n",
        "      self.target.load_state_dict(self.policy.state_dict())\n",
        "    \n",
        "  def show_status(self, episode, avg_reward):\n",
        "    print(f\"Episode {episode} completed. Average Reward: {avg_reward}\")\n",
        "\n",
        "\n",
        "  def save(self, episode, total_rewards, duration):\n",
        "    filename = f\"/content/gdrive/MyDrive/Atari/TrainingCheckpoint/dqnAgent_{episode}.pt\"\n",
        "    torch.save({\n",
        "            'episode' : episode,\n",
        "            'total_rewards': total_rewards,\n",
        "            'duration': duration,\n",
        "            'step': self.step,\n",
        "            'eps_current': self.eps_current,\n",
        "            'policy_state_dict': self.policy.state_dict(),\n",
        "            'optimizer_state_dict': self.optimizer.state_dict(),\n",
        "            'target_state_dict': self.target.state_dict()\n",
        "            }, filename)\n",
        "    self.memory.save(episode)\n"
      ]
    },
    {
      "cell_type": "markdown",
      "metadata": {
        "id": "4dh6xvgrat_b"
      },
      "source": [
        "# 10. Training\n",
        "\n",
        "We finally implement the function to train the agent over 2 thousand episodes. \n",
        "At each episode, we save the state of the agent (both networks and the optimizer for the policy network), the episode, the array of total rewards, and the array of average rewards over the episodes. "
      ]
    },
    {
      "cell_type": "code",
      "execution_count": 21,
      "metadata": {
        "id": "sAFQLjqxFTqV"
      },
      "outputs": [],
      "source": [
        "def trainAgent(episodes = 2000, skipsteps = 1):\n",
        "  agent = DQNAgent(\n",
        "      state_space_shape = [4,84,84],\n",
        "      action_space_size = 6,\n",
        "      memory_size = 50000,\n",
        "      batch_size = skipsteps*32,\n",
        "      eps_max = 1.0,\n",
        "      eps_min = 0.02,\n",
        "      schedule_timesteps = 10000,\n",
        "      discounting = 0.99,\n",
        "      learning_rate = 5e-4,\n",
        "      learning_start = 5000,\n",
        "      update_method= \"soft\",\n",
        "      soft_update_param = 0.002\n",
        "      )\n",
        "  total_rewards = []\n",
        "  duration = []\n",
        "  for episode in range(1, episodes):\n",
        "    state = env.reset()\n",
        "    total_reward = np.array(0).astype(np.int16)\n",
        "    steps = 0\n",
        "    skipsteps = skipsteps\n",
        "    while True:\n",
        "      \n",
        "      #sample action using epsilon greedy\n",
        "      action = agent.epsilon_greedy(state)\n",
        "\n",
        "      #take action and receive reward and next state\n",
        "      next_state, reward, done, _ = env.step(action)\n",
        "      total_reward += reward\n",
        "      steps += 1\n",
        "      skipsteps -= 1\n",
        "      \n",
        "      #store experience\n",
        "      agent.remember(state,action,reward,next_state,done)\n",
        "\n",
        "      #Experience Replay to update Policy model\n",
        "      if skipsteps==0:\n",
        "        agent.experience_replay()\n",
        "        skipsteps = 4\n",
        "      \n",
        "      state = next_state\n",
        "      if done:\n",
        "        break\n",
        "      \n",
        "    total_rewards.append(total_reward)\n",
        "    duration.append(steps)\n",
        "\n",
        "    if episode%500 == 0:\n",
        "      agent.save(episode, total_rewards, duration)"
      ]
    },
    {
      "cell_type": "code",
      "execution_count": 22,
      "metadata": {
        "id": "J1NFWyX0YMaC"
      },
      "outputs": [],
      "source": [
        "# Uncomment for training. Warning! Requires a lot of RAM.\n",
        "#env = gym.make(id='SpaceInvadersNoFrameskip-v4')\n",
        "#env = FrameStack(ClipRewardEnv(MaxAndSkipEnv(ProcessObservation(env))))\n",
        "#trainAgent(skipsteps = 4)"
      ]
    },
    {
      "cell_type": "markdown",
      "metadata": {},
      "source": [
        "# 11. Results\n",
        "\n",
        "It is a well known fact from literature that these algorithms are very sensitive to parameters. We ran various test cases and situations based on what we found online as possible suggestions from past literature. \n",
        "\n",
        "Below are the various runs (note that for all runs eps_max = $1.0$): \n",
        "- Run 1: In this run, we had not yet introduced the parameter \"learning_start\" which indicates after how many steps the agent should begin to learn. In fact, in our previous implementation, as soon as the memory had stored enough for the first batch, we began to learn. This possibly caused overfitting to the first 32 experiences which resulted in negative results as can be seen by the low performance which decreases as the episodes increased.\n",
        "In terms of the hyperparameters, we used:\n",
        "    - learning_rate: $1e-3$\n",
        "    - memory_size: $1e6$\n",
        "    - schedule_timesteps: $1e6$\n",
        "    - eps_min: $0.1$\n",
        "    - soft_update_param: $0.001$\n",
        "    \n",
        "        Clearly, we suffered from overfitting and from lack of exploration.\n",
        "- Run 2: In this run, we introduced the learning starts parameter. We also took inspiration from the OpenAI baselines and reduced the size of the buffer and the schedule time steps. We also reduced eps min. The parameters were as follows:\n",
        "    - learning_rate: $5e-4$\n",
        "    - memory_size: $5e4$\n",
        "    - schedule_timesteps: $1e4$\n",
        "    - eps_min: $0.02$\n",
        "    - soft_update_param: $0.002$\n",
        "    - learning_starts: $1e3$\n",
        "    \n",
        "        This run provided a good performance in terms of peak increase. However, after 8000 episodes, it was clear that it hadn't explored enough and had settled for an average performance of around 16 points.\n",
        "- Run 3: Aiming to improve the lack of exploration in the above run, we increased the memory size and the schedule timesteps as well as the eps_min.\n",
        "    - learning_rate: $5e-4$\n",
        "    - memory_size: $5e5$\n",
        "    - schedule_timesteps: $5e5$\n",
        "    - eps_min: $0.1$\n",
        "    - soft_update_param: $0.002$\n",
        "    - learning_starts: $1e3$\n",
        "    \n",
        "        This however, proved to give too much exploration and the results were less performant than the previos run.\n",
        "- Run 4: We decided to take inspiration from a blog post to accelerate the learning by introducing a skip_steps parameter. This parameter indicates how many steps the agent should take before doing a learning iteration. The idea was to give more exploration to the agent while also increasing the batch size proportionally by the number of steps skipped between learning loops.\n",
        "    - learning_rate: $5e-4$\n",
        "    - memory_size: $1e5$\n",
        "    - schedule_timesteps: $1e5$\n",
        "    - eps_min: $0.05$\n",
        "    - soft_update_param: $0.002$\n",
        "    - skipsteps: $4$\n",
        "    - learning_starts: $5e3$\n",
        "\n",
        "- Run 5: During this run we used the same setting as Run2 but with the skipstep technique to increase exploration. \n",
        "    - skipsteps: $4$\n",
        "\n",
        "        This run was the best in terms of performance. It seemed to be more efficient at learning than all the other methods and it was also much quicker in doing so.\n",
        "- Run 6: To further explore some other configurations, we decided to not clip the rewards and do a hard update instead of a soft update. The hope was that the drastic change of the target after N steps would help increase learning. However, this came at the risk of also creating too much instability. We used the same parameters as run 2.\n",
        "    - update_method: \"hard\"\n",
        "    - update_frequency: $10e4$\n",
        "\n",
        "In all cases, we stopped the training as soon as we saw evidence of flattening. In all cases, we did not train for 10 millions steps as done in the Nature paper since we were aiming at exploring configurations without wasting too many computational resources. \n",
        "\n",
        "\n",
        "Below we show the results:"
      ]
    },
    {
      "cell_type": "code",
      "execution_count": 3,
      "metadata": {},
      "outputs": [],
      "source": [
        "results1 = torch.load(\"./Results/dqnAgentRUN1_3000.pt\")\n",
        "results2 = torch.load(\"./Results/dqnAgentRUN2_8000.pt\")\n",
        "results3 = torch.load(\"./Results/dqnAgentRUN3_9500.pt\")\n",
        "results4 = torch.load(\"./Results/dqnAgentRUN4_6000.pt\")\n",
        "results5 = torch.load(\"./Results/dqnAgentRUN5_7000.pt\")\n",
        "results6 = torch.load(\"./Results/dqnAgentHARDRUN6_6500.pt\")\n",
        "\n"
      ]
    },
    {
      "cell_type": "code",
      "execution_count": 4,
      "metadata": {},
      "outputs": [],
      "source": [
        "tot1 = results1[\"total_rewards\"]\n",
        "tot2 = results2[\"total_rewards\"]\n",
        "tot3 = results3[\"total_rewards\"]\n",
        "tot4 = results4[\"total_rewards\"]\n",
        "tot5 = results5[\"total_rewards\"]\n",
        "tot6 = results6[\"total_rewards\"]\n",
        "\n",
        "\n",
        "avg1 = []\n",
        "avg2 = []\n",
        "avg3 = []\n",
        "avg4 = []\n",
        "avg5 = []\n",
        "avg6 = []\n",
        "\n",
        "for i in range(1,len(tot1)):\n",
        "    avg1.append(np.mean(tot1[:i]))\n",
        "for i in range(1,len(tot2)):\n",
        "    avg2.append(np.mean(tot2[:i]))\n",
        "for i in range(1,len(tot3)):\n",
        "    avg3.append(np.mean(tot3[:i]))\n",
        "for i in range(1,len(tot4)):\n",
        "    avg4.append(np.mean(tot4[:i]))\n",
        "for i in range(1,len(tot5)):\n",
        "    avg5.append(np.mean(tot5[:i]))\n",
        "for i in range(1,len(tot6)):\n",
        "    avg6.append(np.mean(tot6[:i]))"
      ]
    },
    {
      "cell_type": "code",
      "execution_count": 5,
      "metadata": {},
      "outputs": [
        {
          "name": "stdout",
          "output_type": "stream",
          "text": [
            "The max reward for run5 is: 17.0975468975469 at 3464 episodes\n"
          ]
        },
        {
          "data": {
            "image/png": "[encoded data removed]",
            "text/plain": [
              "<Figure size 432x288 with 1 Axes>"
            ]
          },
          "metadata": {
            "needs_background": "light"
          },
          "output_type": "display_data"
        }
      ],
      "source": [
        "print(f\"The max reward for run5 is: {max(avg5)} at {np.argmax(avg5)} episodes\")\n",
        "\n",
        "plt.plot(avg1, label = \"run1\")\n",
        "plt.plot(avg2, label = \"run2\")\n",
        "plt.plot(avg3, label = \"run3\")\n",
        "plt.plot(avg4, label = \"run4\")\n",
        "plt.plot(avg5, label = \"run5\")\n",
        "#plt.axvline(x = 3500)\n",
        "plt.xlabel(\"Episode\")\n",
        "plt.ylabel(\"Cumulative average reward over episode\")\n",
        "plt.title(\"Training of DQN Agent for 5 runs\")\n",
        "ax = plt.gca()\n",
        "ax.legend()\n",
        "plt.show()"
      ]
    },
    {
      "cell_type": "code",
      "execution_count": 26,
      "metadata": {},
      "outputs": [
        {
          "data": {
            "image/png": "[encoded data removed]",
            "text/plain": [
              "<Figure size 432x288 with 1 Axes>"
            ]
          },
          "metadata": {
            "needs_background": "light"
          },
          "output_type": "display_data"
        }
      ],
      "source": [
        "plt.plot(avg6, label = \"run6\")\n",
        "plt.xlabel(\"Episode\")\n",
        "plt.ylabel(\"Cumulative average reward over episode\")\n",
        "plt.title(\"Run 6, unclipped rewards and hard update\")\n",
        "ax = plt.gca()\n",
        "ax.legend()\n",
        "plt.show()\n",
        "\n"
      ]
    },
    {
      "cell_type": "code",
      "execution_count": 27,
      "metadata": {},
      "outputs": [],
      "source": [
        "def watchAgent(PATH, episodes):\n",
        "  agent = DQNAgent(\n",
        "      state_space_shape = [4,84,84],\n",
        "      action_space_size = 6,\n",
        "      memory_size = 50000,\n",
        "      batch_size = 32,\n",
        "      eps_max = 1.0,\n",
        "      eps_min = 0.02,\n",
        "      schedule_timesteps = 10000,\n",
        "      discounting = 0.99,\n",
        "      learning_rate = 5e-4,\n",
        "      learning_start = 5000,\n",
        "      update_method= \"soft\",\n",
        "      soft_update_param = 0.002,\n",
        "      PATH = PATH\n",
        "      )\n",
        "  total_rewards = []\n",
        "\n",
        "  for episode in range(1, episodes):\n",
        "    state = env.reset()\n",
        "    total_reward = 0\n",
        "    while True:\n",
        "      #sample action using epsilon greedy\n",
        "      action = agent.act(state, 0.05)\n",
        "\n",
        "      #take action and receive reward and next state\n",
        "      next_state, reward, done, _ = env.step(action)\n",
        "      total_reward += reward\n",
        "      state = next_state\n",
        "\n",
        "      if done:\n",
        "        break\n",
        "    total_rewards.append(total_reward)\n",
        "\n",
        "    if episode%20 == 0:\n",
        "      agent.show_status(episode, total_reward)\n",
        "      \n",
        "  return total_rewards"
      ]
    },
    {
      "cell_type": "code",
      "execution_count": 28,
      "metadata": {},
      "outputs": [
        {
          "name": "stdout",
          "output_type": "stream",
          "text": [
            "Episode 20 completed. Average Reward: 225.0\n",
            "Episode 40 completed. Average Reward: 330.0\n",
            "Episode 60 completed. Average Reward: 235.0\n",
            "Episode 80 completed. Average Reward: 220.0\n"
          ]
        }
      ],
      "source": [
        "env = gym.make(id='SpaceInvadersNoFrameskip-v4')\n",
        "env = FrameStack(MaxAndSkipEnv(ProcessObservation(env))) # no reward clipping to watch agent!\n",
        "\n",
        "total_rewards = watchAgent(PATH = \"./Results/dqnAgentRUN5_3500.pt\", episodes = 100)\n"
      ]
    },
    {
      "cell_type": "code",
      "execution_count": 29,
      "metadata": {},
      "outputs": [
        {
          "name": "stdout",
          "output_type": "stream",
          "text": [
            "The average reward for the random agent is: \t\t167.62626262626262\n",
            "The average reward for the best dqn agent is: \t\t289.34343434343435\n"
          ]
        }
      ],
      "source": [
        "print(f\"The average reward for the random agent is: \\t\\t{np.mean(rewardRandomAgent)}\")\n",
        "print(f\"The average reward for the best dqn agent is: \\t\\t{np.mean(total_rewards)}\")\n",
        "\n"
      ]
    },
    {
      "cell_type": "markdown",
      "metadata": {},
      "source": [
        "This means an improvement of $\\approx 120$ points!"
      ]
    },
    {
      "cell_type": "markdown",
      "metadata": {
        "id": "nlyNqnQebha0"
      },
      "source": [
        "Works Cited:\n",
        "\n",
        "- The original paper of DQN:\n",
        "      \n",
        "    https://www.cs.toronto.edu/~vmnih/docs/dqn.pdf\n",
        "\n",
        "- Slides from David Silvers course:\n",
        "\n",
        "    https://www.davidsilver.uk/wp-content/uploads/2020/03/FA.pdf\n",
        "\n",
        "- An explanation of frame stacking:\n",
        "\n",
        "    https://danieltakeshi.github.io/2016/11/25/frame-skipping-and-preprocessing-for-deep-q-networks-on-atari-2600-games/\n",
        "\n",
        "- The pytorch implementation of DQN: \n",
        "\n",
        "    https://pytorch.org/tutorials/intermediate/reinforcement_q_learning.html\n",
        "\n",
        "- An implementation of DQN by Chao De-Yu:\n",
        "\n",
        "    https://towardsdatascience.com/deep-q-network-with-pytorch-146bfa939dfe\n",
        "\n",
        "- The paper in which soft updating was used first:\n",
        "\n",
        "    https://arxiv.org/pdf/1509.02971.pdf\n",
        "\n",
        "- An explanation of soft updating:\n",
        "\n",
        "    https://ai.stackexchange.com/questions/21485/how-and-when-should-we-update-the-q-target-in-deep-q-learning\n",
        "\n",
        "- A introduction to OpenAI's gym environment:\n",
        "\n",
        "    https://blog.paperspace.com/getting-started-with-openai-gym/\n",
        "\n",
        "- An overview of the Space Invaders environment:\n",
        "\n",
        "    https://www.gymlibrary.ml/environments/atari/space_invaders/\n",
        "\n",
        "- OpenAI baseline for environment wrappers. Lazy Frames taken from here to save space:\n",
        "\n",
        "    https://github.com/openai/baselines/blob/master/baselines/common/atari_wrappers.py\n",
        "\n",
        "- Results obtained from a competition:\n",
        "\n",
        "    https://wandb.ai/raghmura/qualcomm/reports/Space-Invaders-challenge-a-Reinforcement-Learning-competition--Vmlldzo5MzEzMg"
      ]
    },
    {
      "cell_type": "markdown",
      "metadata": {},
      "source": [
        "Individual Contributions:\n",
        "- Idea: Davide + Andres\n",
        "- Slides: Davide\n",
        "- Initial setup code and environment: Davide + Andres\n",
        "- Tweaks and training: Andres\n",
        "- Runs: Andres + Davide\n",
        "\n"
      ]
    }
  ],
  "metadata": {
    "accelerator": "GPU",
    "colab": {
      "collapsed_sections": [],
      "name": "AtariRLProject.ipynb",
      "provenance": []
    },
    "gpuClass": "standard",
    "kernelspec": {
      "display_name": "Python 3.8.13 ('atari')",
      "language": "python",
      "name": "python3"
    },
    "language_info": {
      "codemirror_mode": {
        "name": "ipython",
        "version": 3
      },
      "file_extension": ".py",
      "mimetype": "text/x-python",
      "name": "python",
      "nbconvert_exporter": "python",
      "pygments_lexer": "ipython3",
      "version": "3.8.13"
    },
    "vscode": {
      "interpreter": {
        "hash": "9e4a7e6601473f4c74855041a6c70d9148f88815d30683425869c65e73f3c982"
      }
    }
  },
  "nbformat": 4,
  "nbformat_minor": 0
}
